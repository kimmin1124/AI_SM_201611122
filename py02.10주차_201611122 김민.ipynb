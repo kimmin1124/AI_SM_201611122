{
 "cells": [
  {
   "cell_type": "markdown",
   "id": "8424f17d",
   "metadata": {},
   "source": [
    "# **Load packages**"
   ]
  },
  {
   "cell_type": "code",
   "execution_count": 1,
   "id": "dfc02a88",
   "metadata": {},
   "outputs": [],
   "source": [
    "import torch\n",
    "import torch.nn as nn\n",
    "import torchvision.datasets as dset\n",
    "import torchvision.transforms as transforms\n",
    "from torch.utils.data import DataLoader\n",
    "from torch.autograd import Variable\n",
    "import matplotlib.pyplot as plt\n",
    "%matplotlib inline"
   ]
  },
  {
   "cell_type": "markdown",
   "id": "1f8abe84",
   "metadata": {},
   "source": [
    "# **MNIST train, test dataset 가져오기**"
   ]
  },
  {
   "cell_type": "code",
   "execution_count": 2,
   "id": "bf2ece62",
   "metadata": {},
   "outputs": [],
   "source": [
    "#\"\": 현재 폴더에 MNIST 있음\n",
    "mnist_train=dset.MNIST(\"\", train=True, transform = transforms.ToTensor(), #train 용으로 쓰겠다.\n",
    "                       target_transform = None, download = False)\n",
    "mnist_test=dset.MNIST(\"\", train=False, transform = transforms.ToTensor(), #test 용으로 쓰겠다.\n",
    "                       target_transform = None, download = False)"
   ]
  },
  {
   "cell_type": "markdown",
   "id": "4cf7c5b4",
   "metadata": {},
   "source": [
    "# **대략적인 데이터 형태**"
   ]
  },
  {
   "cell_type": "code",
   "execution_count": 3,
   "id": "ba69e08d",
   "metadata": {},
   "outputs": [
    {
     "name": "stdout",
     "output_type": "stream",
     "text": [
      "mnist_train 길이: 60000\n",
      "mnist_test 길이: 10000\n",
      "image data 형태: torch.Size([1, 28, 28])\n",
      "label:  5\n"
     ]
    },
    {
     "data": {
      "image/png": "[encoded data removed]",
      "text/plain": [
       "<Figure size 432x288 with 1 Axes>"
      ]
     },
     "metadata": {
      "needs_background": "light"
     },
     "output_type": "display_data"
    }
   ],
   "source": [
    "print \"mnist_train 길이:\", len(mnist_train)\n",
    "print \"mnist_test 길이:\", len(mnist_test)\n",
    "\n",
    "# 데이터 하나 형태\n",
    "image, label = mnist_train.__getitem__(0) # 0번째 데이터\n",
    "print \"image data 형태:\", image.size()\n",
    "print \"label: \", label\n",
    "\n",
    "# 그리기\n",
    "img = image.numpy() # image 타입을 numpy 로 변환 (1, 28, 28)\n",
    "plt.title(\"label: %d\" %label)\n",
    "plt.imshow(img[0], cmap = 'gray')\n",
    "plt.show()"
   ]
  },
  {
   "cell_type": "markdown",
   "id": "daffe0dc",
   "metadata": {},
   "source": [
    "# **MNIST data 띄워보기**"
   ]
  },
  {
   "cell_type": "code",
   "execution_count": 4,
   "id": "a12de9ef",
   "metadata": {},
   "outputs": [
    {
     "name": "stdout",
     "output_type": "stream",
     "text": [
      "5\n",
      "torch.Size([1, 28, 28])\n",
      "5\n"
     ]
    },
    {
     "data": {
      "image/png": "[encoded data removed]",
      "text/plain": [
       "<Figure size 432x288 with 1 Axes>"
      ]
     },
     "metadata": {
      "needs_background": "light"
     },
     "output_type": "display_data"
    },
    {
     "name": "stdout",
     "output_type": "stream",
     "text": [
      "0\n"
     ]
    },
    {
     "data": {
      "image/png": "[encoded data removed]",
      "text/plain": [
       "<Figure size 432x288 with 1 Axes>"
      ]
     },
     "metadata": {
      "needs_background": "light"
     },
     "output_type": "display_data"
    },
    {
     "name": "stdout",
     "output_type": "stream",
     "text": [
      "4\n"
     ]
    },
    {
     "data": {
      "image/png": "[encoded data removed]",
      "text/plain": [
       "<Figure size 432x288 with 1 Axes>"
      ]
     },
     "metadata": {
      "needs_background": "light"
     },
     "output_type": "display_data"
    }
   ],
   "source": [
    "print(mnist_train[0][1]) # label\n",
    "print(mnist_train[0][0].size()) # image\n",
    "\n",
    "for i in range(3):\n",
    "    img=mnist_train[i][0].numpy()\n",
    "    print(mnist_train[i][1])\n",
    "    plt.imshow(img[0],cmap='gray')\n",
    "    plt.show()"
   ]
  },
  {
   "cell_type": "markdown",
   "id": "3d463619",
   "metadata": {},
   "source": [
    "# **convolution 하나 씌워보기**"
   ]
  },
  {
   "cell_type": "code",
   "execution_count": 5,
   "id": "4123de1c",
   "metadata": {},
   "outputs": [
    {
     "name": "stdout",
     "output_type": "stream",
     "text": [
      "torch.Size([1, 1, 28, 28])\n",
      "5\n",
      "torch.Size([1, 3, 28, 28])\n"
     ]
    },
    {
     "data": {
      "image/png": "[encoded data removed]",
      "text/plain": [
       "<Figure size 432x288 with 1 Axes>"
      ]
     },
     "metadata": {
      "needs_background": "light"
     },
     "output_type": "display_data"
    },
    {
     "data": {
      "image/png": "[encoded data removed]",
      "text/plain": [
       "<Figure size 432x288 with 1 Axes>"
      ]
     },
     "metadata": {
      "needs_background": "light"
     },
     "output_type": "display_data"
    },
    {
     "data": {
      "image/png": "[encoded data removed]",
      "text/plain": [
       "<Figure size 432x288 with 1 Axes>"
      ]
     },
     "metadata": {
      "needs_background": "light"
     },
     "output_type": "display_data"
    }
   ],
   "source": [
    "# mnist 의 첫 번째 이미지, 라벨 가져오기\n",
    "image, label = mnist_train[0]\n",
    "# view: tensor 의 사이즈 조절, -1: 해당 차원의 차원을 확장시켜라\n",
    "# [1, 28, 28] -> [1, 1, 28, 28]\n",
    "image = image.view(-1, image.size()[0], image.size()[1], image.size()[2])\n",
    "print(image.size())\n",
    "\n",
    "print label\n",
    "\n",
    "# convolutional filter 정의\n",
    "conv_layer=nn.Conv2d(in_channels=1, out_channels=3, kernel_size=3, padding=1)\n",
    "# image 에 filter 적용\n",
    "output = conv_layer(Variable(image))\n",
    "print(output.size())\n",
    "\n",
    "for i in range(3):\n",
    "    plt.imshow(output[0, i, :, :].data.numpy(), cmap='gray')\n",
    "    plt.show()"
   ]
  },
  {
   "cell_type": "markdown",
   "id": "88eda56a",
   "metadata": {},
   "source": [
    "# **CNN 만들기**"
   ]
  },
  {
   "cell_type": "markdown",
   "id": "b66e1d35",
   "metadata": {},
   "source": [
    "**train test data 가져오기**"
   ]
  },
  {
   "cell_type": "code",
   "execution_count": 6,
   "id": "aadd5202",
   "metadata": {},
   "outputs": [],
   "source": [
    "import numpy as np\n",
    "import torch.optim as optim\n",
    "\n",
    "batch_size = 16\n",
    "learning_rate = 0.0002\n",
    "num_epoch = 10 # 1000"
   ]
  },
  {
   "cell_type": "code",
   "execution_count": 53,
   "id": "062ef79e",
   "metadata": {},
   "outputs": [],
   "source": [
    "# 후에 학습시킬 때 batch_size 단위로 학습시켜나감\n",
    "train_loader = torch.utils.data.DataLoader(list(mnist_train)[:batch_size*100], batch_size = batch_size # mnist_train 를 훈련시킴\n",
    "                                           ,shuffle=True, num_workers = 2,\n",
    "                                           drop_last = True) # batch_size 만큼 나눌 때 나버지는 버려라\n",
    "\n",
    "test_loader = torch.utils.data.DataLoader((mnist_test),batch_size = batch_size,                    \n",
    "                                          shuffle=False, num_workers = 2,\n",
    "                                           drop_last = True) "
   ]
  },
  {
   "cell_type": "markdown",
   "id": "ee6bab8f",
   "metadata": {},
   "source": [
    "# **CNN 클래스 만들기 (모델 만들기)**"
   ]
  },
  {
   "cell_type": "code",
   "execution_count": 54,
   "id": "c8aa68b9",
   "metadata": {},
   "outputs": [],
   "source": [
    "class CNN(nn.Module): #nn.Module 상속받음\n",
    "    def __init__(self):\n",
    "        super(CNN, self).__init__() # 28 x 28 / 1:input, 16: output, 5:kernel\n",
    "        self.layer = nn.Sequential(\n",
    "            nn.Conv2d(1, 16, 5, padding = 2),\n",
    "            nn.ReLU(),\n",
    "        \n",
    "            nn.Conv2d(16, 32, 5, padding = 2), # 28 x 28\n",
    "            nn.ReLU(),\n",
    "            nn.MaxPool2d(2,2), # 28 x 28 -> 14 x 14\n",
    "        \n",
    "            nn.Conv2d(32, 64, 5, padding = 2), # 14 x 14\n",
    "            nn.ReLU(),\n",
    "            nn.MaxPool2d(2,2) # 14 x 14 -> 7 x 7\n",
    "        )\n",
    "        self.fc_layer = nn.Sequential(\n",
    "            nn.Linear(64 * 7 * 7, 100),\n",
    "            nn.ReLU(),\n",
    "            nn.Linear(100, 10)\n",
    "        )\n",
    "    \n",
    "        \n",
    "    def forward(self, x):\n",
    "        out = self.layer(x)\n",
    "        out = out.view(batch_size, -1) # 한줄로 펴주는거(64 * 7 * 7)\n",
    "        out = self.fc_layer(out)\n",
    "        return out\n",
    "    \n",
    "model = CNN() #.cuda()    "
   ]
  },
  {
   "cell_type": "code",
   "execution_count": 55,
   "id": "183f1efc",
   "metadata": {},
   "outputs": [
    {
     "name": "stdout",
     "output_type": "stream",
     "text": [
      "torch.Size([16, 1, 5, 5])\n",
      "torch.Size([16])\n",
      "torch.Size([32, 16, 5, 5])\n",
      "torch.Size([32])\n",
      "torch.Size([64, 32, 5, 5])\n",
      "torch.Size([64])\n",
      "torch.Size([100, 3136])\n",
      "torch.Size([100])\n",
      "torch.Size([10, 100])\n",
      "torch.Size([10])\n"
     ]
    }
   ],
   "source": [
    "# 파라미터 체크하기\n",
    "for parameter in model.parameters():\n",
    "    #print(parameter)\n",
    "    print(parameter.shape)"
   ]
  },
  {
   "cell_type": "code",
   "execution_count": 56,
   "id": "49475d80",
   "metadata": {},
   "outputs": [],
   "source": [
    "# loss function, optimizer 선언\n",
    "loss_func = nn.CrossEntropyLoss()\n",
    "optimizer = torch.optim.Adam(model.parameters(), lr = learning_rate)"
   ]
  },
  {
   "cell_type": "markdown",
   "id": "c7168d27",
   "metadata": {},
   "source": [
    "# **Optimization**"
   ]
  },
  {
   "cell_type": "code",
   "execution_count": 57,
   "id": "a7327693",
   "metadata": {},
   "outputs": [
    {
     "name": "stdout",
     "output_type": "stream",
     "text": [
      "(tensor(2.3103, grad_fn=<NllLossBackward>), 0, 0)\n",
      "(tensor(2.1694, grad_fn=<NllLossBackward>), 50, 0)\n",
      "(tensor(0.8883, grad_fn=<NllLossBackward>), 0, 1)\n",
      "(tensor(0.3860, grad_fn=<NllLossBackward>), 50, 1)\n",
      "(tensor(0.5615, grad_fn=<NllLossBackward>), 0, 2)\n",
      "(tensor(0.1256, grad_fn=<NllLossBackward>), 50, 2)\n",
      "(tensor(0.1897, grad_fn=<NllLossBackward>), 0, 3)\n",
      "(tensor(0.2626, grad_fn=<NllLossBackward>), 50, 3)\n",
      "(tensor(0.2128, grad_fn=<NllLossBackward>), 0, 4)\n",
      "(tensor(0.2329, grad_fn=<NllLossBackward>), 50, 4)\n",
      "(tensor(0.0219, grad_fn=<NllLossBackward>), 0, 5)\n",
      "(tensor(0.1065, grad_fn=<NllLossBackward>), 50, 5)\n",
      "(tensor(0.5304, grad_fn=<NllLossBackward>), 0, 6)\n",
      "(tensor(0.0132, grad_fn=<NllLossBackward>), 50, 6)\n",
      "(tensor(0.0306, grad_fn=<NllLossBackward>), 0, 7)\n",
      "(tensor(0.0663, grad_fn=<NllLossBackward>), 50, 7)\n",
      "(tensor(0.0082, grad_fn=<NllLossBackward>), 0, 8)\n",
      "(tensor(0.0089, grad_fn=<NllLossBackward>), 50, 8)\n",
      "(tensor(0.0333, grad_fn=<NllLossBackward>), 0, 9)\n",
      "(tensor(0.0024, grad_fn=<NllLossBackward>), 50, 9)\n"
     ]
    }
   ],
   "source": [
    "for i in range(num_epoch):\n",
    "    for j, [image, label] in enumerate(train_loader): # batch_size 만큼\n",
    "        x = Variable(image) # .cuda()\n",
    "        y_ = Variable(label) # .cuda()\n",
    "        \n",
    "        optimizer.zero_grad() # optimizer 안에서 이전 gradient 들을 초기화.\n",
    "        output = model.forward(x)\n",
    "        loss = loss_func(output, y_)\n",
    "        loss.backward() # gradient 계산\n",
    "        optimizer.step() # parameter 업데이트\n",
    "        \n",
    "        if j%50==0:\n",
    "            print(loss, j, i)"
   ]
  },
  {
   "cell_type": "code",
   "execution_count": 58,
   "id": "e59a81fe",
   "metadata": {},
   "outputs": [],
   "source": [
    "# 모델 저장시키기\n",
    "torch.save(model, 'nets/mycnn_model_%d.pkl'%(num_epoch))"
   ]
  },
  {
   "cell_type": "code",
   "execution_count": 59,
   "id": "c908ebca",
   "metadata": {},
   "outputs": [
    {
     "name": "stdout",
     "output_type": "stream",
     "text": [
      "model restored\n"
     ]
    }
   ],
   "source": [
    "try:\n",
    "    # 미리 학습시킨 네트워크의 파라미터 집합\n",
    "    model = torch.load('nets/mycnn_model_10.pkl')\n",
    "    print(\"model restored\")\n",
    "except:\n",
    "    print('model not restored')"
   ]
  },
  {
   "cell_type": "code",
   "execution_count": 60,
   "id": "e7c3ff5c",
   "metadata": {},
   "outputs": [],
   "source": [
    "def ComputeAccr(dloader, imodel):\n",
    "    correct = 0\n",
    "    total = 0\n",
    "    \n",
    "    for j, [imgs, labels] in enumerate(dloader): # batch_size 만큼\n",
    "        img = Variable(imgs) #.cuda()    # x\n",
    "        label = Variable(labels) #.cuda()  # y\n",
    "        \n",
    "        output = imodel.forward(img) # forward prop.\n",
    "        _, output_index = torch.max(output, 1)\n",
    "        \n",
    "        total += label.size(0)\n",
    "        correct += (output_index == label).sum().float()\n",
    "    print('Accuracy of Test Data: {}'.format(100*correct/total))\n",
    "        "
   ]
  },
  {
   "cell_type": "code",
   "execution_count": 61,
   "id": "3d5f2fb3",
   "metadata": {},
   "outputs": [
    {
     "name": "stdout",
     "output_type": "stream",
     "text": [
      "Accuracy of Test Data: 94.75\n"
     ]
    }
   ],
   "source": [
    "ComputeAccr(test_loader, model)"
   ]
  }
 ],
 "metadata": {
  "kernelspec": {
   "display_name": "conda_pytorch_p27",
   "language": "python",
   "name": "conda_pytorch_p27"
  },
  "language_info": {
   "codemirror_mode": {
    "name": "ipython",
    "version": 2
   },
   "file_extension": ".py",
   "mimetype": "text/x-python",
   "name": "python",
   "nbconvert_exporter": "python",
   "pygments_lexer": "ipython2",
   "version": "2.7.16"
  }
 },
 "nbformat": 4,
 "nbformat_minor": 5
}
